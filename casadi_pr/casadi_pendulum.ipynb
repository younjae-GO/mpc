{
 "cells": [
  {
   "cell_type": "code",
   "execution_count": 5,
   "metadata": {
    "id": "gI-SHhKr5cr1"
   },
   "outputs": [],
   "source": [
    "from IPython.display import clear_output\n",
    "\n",
    "import numpy as np\n",
    "import casadi\n",
    "import matplotlib.pyplot as plt\n",
    "import matplotlib.patches as patches\n",
    "from matplotlib.animation import FuncAnimation\n",
    "\n",
    "clear_output()"
   ]
  },
  {
   "cell_type": "code",
   "execution_count": 6,
   "metadata": {
    "id": "WruNZ7zZ6Ec7"
   },
   "outputs": [],
   "source": [
    "# Inverted pendulum parameters\n",
    "g = 9.81 # Gravitational acceleration\n",
    "M = 1 # Cart mass\n",
    "m =0.2 # Pendulum mass\n",
    "l = 1 # Pendulum Length\n",
    "\n",
    "nu = 1 # Control variable dimensions\n",
    "nx = 4 # state variable dimentsions\n",
    "\n",
    "# Cost function weights\n",
    "Q = casadi.diag([2.5, 10, 0.01, 0.01])\n",
    "R = casadi.diag([0.1])\n",
    "\n",
    "# Prediction horizon etc.\n",
    "T = 1\n",
    "K = 20\n",
    "dt = T/K\n",
    "\n",
    "# Constraints\n",
    "x_lb = [-np.inf, -np.inf, -np.inf, -np.inf]\n",
    "x_ub = [np.inf, np.inf, np.inf, np.inf]\n",
    "u_lb = [-15]\n",
    "u_ub = [15]\n",
    "\n",
    "# Target value\n",
    "x_ref = casadi.DM([0, 0, 0, 0])\n",
    "u_ref = casadi.DM([0])\n",
    "\n",
    "total = nx*(K+1) + nu*K"
   ]
  },
  {
   "cell_type": "code",
   "execution_count": null,
   "metadata": {
    "id": "V9sVmi1wAlUm"
   },
   "outputs": [],
   "source": [
    "# states, ctrls가 주어지면 states dot을 구하는 함수\n",
    "def make_f():\n",
    "    states = casadi.SX.sym('states', nx)\n",
    "    ctrls = casadi.SX.sym('ctrls', nu)\n",
    "\n",
    "    x = states[0]\n",
    "    theta = states[1]\n",
    "    x_dot = states[2]\n",
    "    theta_dot = states[3]\n",
    "    F = ctrls[0]\n",
    "\n",
    "    sin = casadi.sin(theta)\n",
    "    cos = casadi.cos(theta)\n",
    "    det = M+m*sin**2\n",
    "\n",
    "    x_ddot = (m*sin*(l*theta_dot**2 - g*cos) + F)/det\n",
    "    theta_ddot = (-m*l*theta_dot**2*sin*cos + (M+m)*g*sin -F*cos)/(l*det)\n",
    "\n",
    "    states_dot = casadi.vertcat(x_dot, theta_dot, x_ddot, theta_ddot)\n",
    "\n",
    "    f = casadi.Function('f', [states, ctrls], [states_dot], ['x', 'u'], ['x_dot'])\n",
    "    return f\n",
    "\n",
    "# Runge-kutta 4차 방법 기반의 상태 전이 함수\n",
    "# 즉 hat x_k+1 = f_rk4(x, u)\n",
    "# MPC 예측 모델\n",
    "def make_F_RK4():\n",
    "    states = casadi.SX.sym('states', nx)\n",
    "    ctrls = casadi.SX.sym('ctrls', nu)\n",
    "\n",
    "    f = make_f()\n",
    "\n",
    "    k1 = f(x=states, u=ctrls)['x_dot']\n",
    "    k2 = f(x=states+dt*k1/2, u=ctrls)['x_dot']\n",
    "    k3 = f(x=states+dt*k2/2, u=ctrls)['x_dot']\n",
    "    k4 = f(x=states+dt*k3, u=ctrls)['x_dot']\n",
    "\n",
    "    states_next = states + 1/6*dt*(k1+2*k2+2*k3+k4)\n",
    "\n",
    "    F_RK4 = casadi.Function('F_RK4', [states, ctrls], [states_next], ['x', 'u'], ['x_next'])\n",
    "    return F_RK4\n",
    "\n",
    "# plant 모델 (실제 시스템)\n",
    "def make_integrator():\n",
    "    states = casadi.SX.sym('states', nx)\n",
    "    ctrls = casadi.SX.sym('ctrls', nu)\n",
    "\n",
    "    f = make_f()\n",
    "    ode = f(x=states, u=ctrls)['x_dot']\n",
    "    dae = {'x': states, 'p': ctrls, 'ode': ode}\n",
    "    I = casadi.integrator('I', 'cvodes', dae, 0, dt)\n",
    "    return I\n"
   ]
  },
  {
   "cell_type": "code",
   "execution_count": 20,
   "metadata": {
    "colab": {
     "base_uri": "https://localhost:8080/"
    },
    "executionInfo": {
     "elapsed": 13,
     "status": "ok",
     "timestamp": 1749647590173,
     "user": {
      "displayName": "고윤재",
      "userId": "17035697930409593893"
     },
     "user_tz": -540
    },
    "id": "QWThzKruH4vH",
    "outputId": "062704cc-c07c-4db4-a962-b618ce2cd498"
   },
   "outputs": [
    {
     "name": "stdout",
     "output_type": "stream",
     "text": [
      "[0.001, 0.01, 1.09566, 3.95613]\n",
      "[1.00142, 0.529056, 0.0557499, 0.208693]\n",
      "[1.00142, 0.529057, 0.0557496, 0.208694]\n"
     ]
    }
   ],
   "source": [
    "x1 = casadi.DM([1, casadi.pi/6, 0.001, 0.01])\n",
    "u1 = casadi.DM([2])\n",
    "f = make_f()\n",
    "res = f(x=x1, u=u1)[\"x_dot\"]\n",
    "print(res)\n",
    "\n",
    "F_RK4 = make_F_RK4()\n",
    "res1 = F_RK4(x=x1, u=u1)[\"x_next\"]\n",
    "print(res1)\n",
    "\n",
    "I = make_integrator()\n",
    "xf = I(x0=x1, p=u1)[\"xf\"]\n",
    "print(xf)"
   ]
  },
  {
   "cell_type": "markdown",
   "metadata": {
    "id": "SYsko4l5Ikbh"
   },
   "source": [
    "## Optimization Problem\n",
    "\n",
    "$$\n",
    "min_{X, U}  J = \\sum_{k=0}^{K-1} stage\\_cost(x_k, u_k) \\cdot dt + terminal\\_cost(x_K)\n",
    "$$\n",
    "\n",
    "subject to\n",
    "$$\n",
    "x_{k+1} = F_{RK4}(x_k, u_k)\n",
    "$$"
   ]
  },
  {
   "cell_type": "code",
   "execution_count": 22,
   "metadata": {},
   "outputs": [],
   "source": [
    "def compute_stage_cost(x, u):\n",
    "    x_diff = x - x_ref\n",
    "    u_diff = u - u_ref\n",
    "    cost = (casadi.dot(x_diff, Q@x_diff) + casadi.dot(u_diff, R@u_diff)) / 2\n",
    "    return cost\n",
    "\n",
    "def compute_terminal_cost(x):\n",
    "    x_diff = x - x_ref\n",
    "    cost = casadi.dot(Q@x_diff, x_diff) / 2\n",
    "    return cost"
   ]
  },
  {
   "cell_type": "code",
   "execution_count": 14,
   "metadata": {
    "id": "7YgORh83IbP0"
   },
   "outputs": [],
   "source": [
    "def make_nlp():\n",
    "    F_RK4 = make_F_RK4()\n",
    "\n",
    "    U = [casadi.SX.sym(f'u_{k}', nu) for k in range(K)]\n",
    "    X = [casadi.SX.sym(f'x_{k}', nx) for k in range(K+1)]\n",
    "    G = []\n",
    "\n",
    "    J = 0\n",
    "\n",
    "    for k in range(K):\n",
    "        J += compute_stage_cost(X[k], U[k]) * dt\n",
    "        eq = X[k+1] - F_RK4(x=X[k], u=U[k])[\"x_next\"]\n",
    "        G.append(eq)\n",
    "\n",
    "    J += compute_terminal_cost(X[-1])\n",
    "\n",
    "    option = {'print_time':False, 'ipopt': {'max_iter':10, 'print_level':0}}\n",
    "    nlp = {\"x\":casadi.vertcat(*X, *U), \"f\":J, \"g\":casadi.vertcat(*G)}\n",
    "    S = casadi.nlpsol(\"S\", \"ipopt\", nlp, option)\n",
    "    return S"
   ]
  },
  {
   "cell_type": "markdown",
   "metadata": {
    "id": "3gzcTCzLL2V0"
   },
   "source": [
    "Control Input Calculation"
   ]
  },
  {
   "cell_type": "code",
   "execution_count": 15,
   "metadata": {
    "id": "28_vM4f4Lzl3"
   },
   "outputs": [],
   "source": [
    "def compute_optimal_control(S, x_init, x0):\n",
    "    x_init = x_init.full().ravel().tolist() # casadi symbol -> python list\n",
    "\n",
    "    lbx = x_init + x_lb*K + u_lb*K\n",
    "    ubx = x_init + x_ub*K + u_ub*K\n",
    "    lbg = [0]*nx*K\n",
    "    ubg = [0]*nx*K\n",
    "\n",
    "    res = S(lbx=lbx, ubx=ubx, lbg=lbg, ubg=ubg, x0=x0)\n",
    "\n",
    "    offset = nx*(K+1)\n",
    "    x0 = res[\"x\"]\n",
    "    u_opt = x0[offset:offset+nu]\n",
    "    return u_opt, x0"
   ]
  },
  {
   "cell_type": "markdown",
   "metadata": {
    "id": "xVqsZQgYM1Zi"
   },
   "source": [
    "MPC"
   ]
  },
  {
   "cell_type": "code",
   "execution_count": 24,
   "metadata": {
    "id": "JT-95uRCMrWq"
   },
   "outputs": [],
   "source": [
    "S = make_nlp()\n",
    "\n",
    "t_span = [0, 10]\n",
    "t_eval = np.arange(*t_span, dt)\n",
    "\n",
    "x_init = casadi.DM([0, np.pi, 0,0])\n",
    "x0 = casadi.DM.zeros(total)\n",
    "\n",
    "I = make_integrator()\n",
    "\n",
    "X = [x_init]\n",
    "U = []\n",
    "x_current = x_init\n",
    "for t in t_eval:\n",
    "    u_opt, x0 = compute_optimal_control(S, x_current, x0)\n",
    "    x_current = I(x0=x_current, p=u_opt)[\"xf\"]\n",
    "    X.append(x_current)\n",
    "    U.append(u_opt)\n",
    "\n"
   ]
  },
  {
   "cell_type": "markdown",
   "metadata": {
    "id": "grjaGc3WQVyC"
   },
   "source": [
    "Visualizing the results"
   ]
  },
  {
   "cell_type": "code",
   "execution_count": 25,
   "metadata": {
    "colab": {
     "base_uri": "https://localhost:8080/",
     "height": 388
    },
    "executionInfo": {
     "elapsed": 401,
     "status": "ok",
     "timestamp": 1749650338735,
     "user": {
      "displayName": "고윤재",
      "userId": "17035697930409593893"
     },
     "user_tz": -540
    },
    "id": "pneI4WxXQRRu",
    "outputId": "853e2707-3fe9-48b6-f27d-58e10a4e4722"
   },
   "outputs": [
    {
     "data": {
      "image/png": "[encoded data removed]",
      "text/plain": [
       "<Figure size 1200x400 with 2 Axes>"
      ]
     },
     "metadata": {},
     "output_type": "display_data"
    }
   ],
   "source": [
    "X.pop()\n",
    "X = np.array(X).reshape(t_eval.size, nx)\n",
    "U = np.array(U).reshape(t_eval.size, nu)\n",
    "\n",
    "plt.figure(figsize=(12, 4))\n",
    "\n",
    "plt.subplot(1,2,1)\n",
    "for k in range(nx):\n",
    "    plt.plot(t_eval, X[:,k], label=f\"x_{k}\")\n",
    "plt.legend()\n",
    "plt.xlabel(\"Time\")\n",
    "plt.ylabel(\"State\")\n",
    "\n",
    "plt.subplot(1,2,2)\n",
    "for k in range(nu):\n",
    "    plt.step(t_eval, U[:,k], linestyle=\"--\", label=f\"u_{k}\")\n",
    "plt.legend()\n",
    "plt.xlabel(\"Time\")\n",
    "plt.ylabel(\"Control\")\n",
    "\n",
    "plt.show()"
   ]
  },
  {
   "cell_type": "markdown",
   "metadata": {
    "id": "6TrdMStVULuu"
   },
   "source": [
    "Creatubg animations"
   ]
  },
  {
   "cell_type": "code",
   "execution_count": 18,
   "metadata": {
    "colab": {
     "base_uri": "https://localhost:8080/",
     "height": 545
    },
    "executionInfo": {
     "elapsed": 54412,
     "status": "ok",
     "timestamp": 1749647673803,
     "user": {
      "displayName": "고윤재",
      "userId": "17035697930409593893"
     },
     "user_tz": -540
    },
    "id": "z_NQduVPRI1t",
    "outputId": "db0710e2-90e1-43dc-9321-1bfdae18084b"
   },
   "outputs": [
    {
     "data": {
      "image/png": "[encoded data removed]",
      "text/plain": [
       "<Figure size 1200x600 with 1 Axes>"
      ]
     },
     "metadata": {},
     "output_type": "display_data"
    }
   ],
   "source": [
    "fig = plt.figure(figsize=(12,6))\n",
    "ax = fig.add_subplot(111)\n",
    "frames = np.arange(0, t_eval.size)\n",
    "fps = 1 / dt\n",
    "\n",
    "def update_figure(i):\n",
    "    x_lim_min = -4\n",
    "    x_lim_max = 4\n",
    "    y_lim_min = -2\n",
    "    y_lim_max = 2\n",
    "    u_scale = 15\n",
    "\n",
    "    ax.cla()\n",
    "    ax.set_xlim(x_lim_min, x_lim_max)\n",
    "    ax.set_ylim(y_lim_min, y_lim_max)\n",
    "    ax.set_aspect(\"equal\")\n",
    "    ax.set_title(f\"t={t_eval[i]:0.2f}\")\n",
    "\n",
    "    x, theta, _, _ = X[i]\n",
    "    u, = U[i]\n",
    "\n",
    "    # 막대 끝\n",
    "    points = np.array([\n",
    "        [x,x-l*np.sin(theta)],\n",
    "        [0,l*np.cos(theta)]\n",
    "    ])\n",
    "\n",
    "    ax.hlines(0, x_lim_min, x_lim_max, colors=\"black\")\n",
    "    ax.scatter(*points, color=\"blue\", s=50)\n",
    "    ax.plot(*points, color='blue', lw=2)\n",
    "    ax.arrow(x, 0, u/u_scale, 0, width=0.02, head_width=0.06, head_length=0.12)\n",
    "\n",
    "    w=0.2\n",
    "    h=0.1\n",
    "    rect = patches.Rectangle(xy=(x-w/2, -h/2), width=w, height=h, color=\"black\")\n",
    "    ax.add_patch(rect)\n",
    "\n",
    "ani = FuncAnimation(fig, update_figure, frames=frames)\n",
    "ani.save(\"cart_pole.gif\", writer=\"pillow\", fps=fps)"
   ]
  }
 ],
 "metadata": {
  "colab": {
   "authorship_tag": "ABX9TyPbdQBi1A7hF8XpPc4CHzWb",
   "provenance": []
  },
  "kernelspec": {
   "display_name": "mpc",
   "language": "python",
   "name": "python3"
  },
  "language_info": {
   "codemirror_mode": {
    "name": "ipython",
    "version": 3
   },
   "file_extension": ".py",
   "mimetype": "text/x-python",
   "name": "python",
   "nbconvert_exporter": "python",
   "pygments_lexer": "ipython3",
   "version": "3.12.7"
  }
 },
 "nbformat": 4,
 "nbformat_minor": 0
}
