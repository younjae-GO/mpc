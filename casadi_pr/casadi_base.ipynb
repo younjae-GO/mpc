{
 "cells": [
  {
   "cell_type": "code",
   "execution_count": 1,
   "metadata": {
    "executionInfo": {
     "elapsed": 22,
     "status": "ok",
     "timestamp": 1749641758846,
     "user": {
      "displayName": "고윤재",
      "userId": "17035697930409593893"
     },
     "user_tz": -540
    },
    "id": "vQhTLy2P_cNC"
   },
   "outputs": [],
   "source": [
    "from casadi import *"
   ]
  },
  {
   "cell_type": "code",
   "execution_count": 2,
   "metadata": {
    "colab": {
     "base_uri": "https://localhost:8080/"
    },
    "executionInfo": {
     "elapsed": 10,
     "status": "ok",
     "timestamp": 1749641769385,
     "user": {
      "displayName": "고윤재",
      "userId": "17035697930409593893"
     },
     "user_tz": -540
    },
    "id": "laCrlUEJQbgo",
    "outputId": "e00ac44f-754f-429d-cd90-e05142f5e5cd"
   },
   "outputs": [
    {
     "name": "stdout",
     "output_type": "stream",
     "text": [
      "SX:  x\n",
      "MX:  x\n"
     ]
    }
   ],
   "source": [
    "sx = SX.sym(\"x\")\n",
    "mx = MX.sym(\"x\")\n",
    "print(\"SX: \", sx)\n",
    "print(\"MX: \", mx)"
   ]
  },
  {
   "cell_type": "markdown",
   "metadata": {
    "id": "PSpr8sBUKmfn"
   },
   "source": [
    "1X1 matrix, i.e. a scalar containing a simbolic primitive called x"
   ]
  },
  {
   "cell_type": "code",
   "execution_count": 3,
   "metadata": {
    "colab": {
     "base_uri": "https://localhost:8080/"
    },
    "executionInfo": {
     "elapsed": 48,
     "status": "ok",
     "timestamp": 1749641777621,
     "user": {
      "displayName": "고윤재",
      "userId": "17035697930409593893"
     },
     "user_tz": -540
    },
    "id": "DuM0-W8XKQrF",
    "outputId": "bcc109b0-fd12-4b68-f02b-95b450fad840"
   },
   "outputs": [
    {
     "name": "stdout",
     "output_type": "stream",
     "text": [
      "SX:  \n",
      "[[x_0, x_3], \n",
      " [x_1, x_4], \n",
      " [x_2, x_5]]\n",
      "MX:  x\n"
     ]
    }
   ],
   "source": [
    "sx = SX.sym(\"x\", 3, 2)\n",
    "mx = MX.sym(\"x\", 3, 2)\n",
    "print(\"SX: \", sx)\n",
    "print(\"MX: \", mx)"
   ]
  },
  {
   "cell_type": "code",
   "execution_count": 4,
   "metadata": {
    "colab": {
     "base_uri": "https://localhost:8080/"
    },
    "executionInfo": {
     "elapsed": 9,
     "status": "ok",
     "timestamp": 1749641787191,
     "user": {
      "displayName": "고윤재",
      "userId": "17035697930409593893"
     },
     "user_tz": -540
    },
    "id": "gbC0u5IoMHdp",
    "outputId": "14041e7e-6da5-4a9f-f908-409270757063"
   },
   "outputs": [
    {
     "name": "stdout",
     "output_type": "stream",
     "text": [
      "SX:  @1=3, @2=1, \n",
      "[[((@1*x_0)+@2), ((@1*x_3)+@2)], \n",
      " [((@1*x_1)+@2), ((@1*x_4)+@2)], \n",
      " [((@1*x_2)+@2), ((@1*x_5)+@2)]]\n",
      "MX:  (ones(3x2)+(3*x))\n"
     ]
    }
   ],
   "source": [
    "fs = 3*sx + 1\n",
    "fm = 3*mx + 1\n",
    "print(\"SX: \", fs)\n",
    "print(\"MX: \", fm)"
   ]
  },
  {
   "cell_type": "code",
   "execution_count": 5,
   "metadata": {
    "colab": {
     "base_uri": "https://localhost:8080/"
    },
    "executionInfo": {
     "elapsed": 6,
     "status": "ok",
     "timestamp": 1749641826306,
     "user": {
      "displayName": "고윤재",
      "userId": "17035697930409593893"
     },
     "user_tz": -540
    },
    "id": "RkaAYF-LQCPD",
    "outputId": "7e9128f5-2912-4239-9a9e-66cd3d56e831"
   },
   "outputs": [
    {
     "name": "stdout",
     "output_type": "stream",
     "text": [
      "A: (project((zeros(2x2,1nz)[0] = x[0]))[1] = (x[0]+x[1]))\n"
     ]
    }
   ],
   "source": [
    "x = MX.sym('x', 2)\n",
    "A = MX(2, 2)\n",
    "A[0,0] = x[0]\n",
    "A[1,1] = x[0]+x[1]\n",
    "print('A:', A)"
   ]
  },
  {
   "cell_type": "code",
   "execution_count": 6,
   "metadata": {
    "colab": {
     "base_uri": "https://localhost:8080/"
    },
    "executionInfo": {
     "elapsed": 38,
     "status": "ok",
     "timestamp": 1749641912678,
     "user": {
      "displayName": "고윤재",
      "userId": "17035697930409593893"
     },
     "user_tz": -540
    },
    "id": "MPwr5FzvQCTb",
    "outputId": "f1b19437-1823-41c5-e7a0-a254ad11315c"
   },
   "outputs": [
    {
     "name": "stdout",
     "output_type": "stream",
     "text": [
      "\n",
      "[[(sin(y_0)-x), (sin(y_2)-x)], \n",
      " [(sin(y_1)-x), (sin(y_3)-x)]]\n"
     ]
    }
   ],
   "source": [
    "x = SX.sym('x')\n",
    "y = SX.sym('y',2,2)\n",
    "print(sin(y)-x)"
   ]
  },
  {
   "cell_type": "code",
   "execution_count": 7,
   "metadata": {
    "colab": {
     "base_uri": "https://localhost:8080/"
    },
    "executionInfo": {
     "elapsed": 43,
     "status": "ok",
     "timestamp": 1749641970922,
     "user": {
      "displayName": "고윤재",
      "userId": "17035697930409593893"
     },
     "user_tz": -540
    },
    "id": "zwPFxgbtQCVq",
    "outputId": "8ca6f967-18aa-441e-e08d-afbf91110f0d"
   },
   "outputs": [
    {
     "name": "stdout",
     "output_type": "stream",
     "text": [
      "\n",
      "[[sq(y_0), sq(y_2)], \n",
      " [sq(y_1), sq(y_3)]] \n",
      "[[(sq(y_0)+(y_2*y_1)), ((y_0*y_2)+(y_2*y_3))], \n",
      " [((y_1*y_0)+(y_3*y_1)), ((y_1*y_2)+sq(y_3))]]\n"
     ]
    }
   ],
   "source": [
    "print(y*y, y@y)"
   ]
  },
  {
   "cell_type": "code",
   "execution_count": 8,
   "metadata": {
    "colab": {
     "base_uri": "https://localhost:8080/"
    },
    "executionInfo": {
     "elapsed": 6,
     "status": "ok",
     "timestamp": 1749642002394,
     "user": {
      "displayName": "고윤재",
      "userId": "17035697930409593893"
     },
     "user_tz": -540
    },
    "id": "otSEzuOmTY32",
    "outputId": "cf6c4c1a-1917-4ac5-86cb-59bac73e4bb9"
   },
   "outputs": [
    {
     "name": "stdout",
     "output_type": "stream",
     "text": [
      "\n",
      "[[y_0, y_2], \n",
      " [y_1, y_3]]\n",
      "\n",
      "[[y_0, y_1], \n",
      " [y_2, y_3]]\n"
     ]
    }
   ],
   "source": [
    "print(y)\n",
    "print(y.T)"
   ]
  },
  {
   "cell_type": "code",
   "execution_count": 10,
   "metadata": {
    "colab": {
     "base_uri": "https://localhost:8080/"
    },
    "executionInfo": {
     "elapsed": 51,
     "status": "ok",
     "timestamp": 1749642017964,
     "user": {
      "displayName": "고윤재",
      "userId": "17035697930409593893"
     },
     "user_tz": -540
    },
    "id": "rjvjBToHTY5_",
    "outputId": "516c199b-98ea-47dd-ce58-b5f410880163"
   },
   "outputs": [
    {
     "name": "stdout",
     "output_type": "stream",
     "text": [
      "@1=1, \n",
      "[[@1, 00, 00, 00], \n",
      " [00, @1, 00, 00], \n",
      " [00, 00, @1, 00], \n",
      " [00, 00, 00, @1]]\n",
      "@1=1, \n",
      "[[@1, 00, 00, 00, 00, @1, 00, 00], \n",
      " [00, 00, @1, 00, 00, 00, 00, @1]]\n"
     ]
    }
   ],
   "source": [
    "x = SX.eye(4)\n",
    "print(x)\n",
    "print(reshape(x,2,8))"
   ]
  },
  {
   "cell_type": "code",
   "execution_count": 11,
   "metadata": {
    "colab": {
     "base_uri": "https://localhost:8080/"
    },
    "executionInfo": {
     "elapsed": 17,
     "status": "ok",
     "timestamp": 1749642051457,
     "user": {
      "displayName": "고윤재",
      "userId": "17035697930409593893"
     },
     "user_tz": -540
    },
    "id": "HOpepelsTY8P",
    "outputId": "d8c39155-0be8-477d-e3b9-42e33ad384d6"
   },
   "outputs": [
    {
     "name": "stdout",
     "output_type": "stream",
     "text": [
      "[x_0, x_1, x_2, x_3, x_4, y_0, y_1, y_2, y_3, y_4]\n"
     ]
    }
   ],
   "source": [
    "x = SX.sym('x', 5)\n",
    "y = SX.sym('y', 5)\n",
    "print(vertcat(x,y))"
   ]
  },
  {
   "cell_type": "code",
   "execution_count": 12,
   "metadata": {
    "colab": {
     "base_uri": "https://localhost:8080/"
    },
    "executionInfo": {
     "elapsed": 46,
     "status": "ok",
     "timestamp": 1749642090713,
     "user": {
      "displayName": "고윤재",
      "userId": "17035697930409593893"
     },
     "user_tz": -540
    },
    "id": "KuwoksjtUONQ",
    "outputId": "e80b3b7d-0d8e-40de-cb9e-eb5b27961a5b"
   },
   "outputs": [
    {
     "name": "stdout",
     "output_type": "stream",
     "text": [
      "\n",
      "[[x_0, y_0], \n",
      " [x_1, y_1], \n",
      " [x_2, y_2], \n",
      " [x_3, y_3], \n",
      " [x_4, y_4]]\n"
     ]
    }
   ],
   "source": [
    "print(horzcat(x,y))"
   ]
  },
  {
   "cell_type": "markdown",
   "metadata": {
    "id": "PiiIfqHSWFHl"
   },
   "source": [
    "Linear algebra\n",
    "Ax = b"
   ]
  },
  {
   "cell_type": "code",
   "execution_count": 13,
   "metadata": {
    "colab": {
     "base_uri": "https://localhost:8080/"
    },
    "executionInfo": {
     "elapsed": 6,
     "status": "ok",
     "timestamp": 1749642124496,
     "user": {
      "displayName": "고윤재",
      "userId": "17035697930409593893"
     },
     "user_tz": -540
    },
    "id": "B4sBIN88UOPj",
    "outputId": "617efa28-96da-4e46-f547-f6a60bc343f4"
   },
   "outputs": [
    {
     "name": "stdout",
     "output_type": "stream",
     "text": [
      "(A\\b)\n"
     ]
    }
   ],
   "source": [
    "A = MX.sym('A',3,3)\n",
    "b = MX.sym('b',3)\n",
    "print(solve(A,b))"
   ]
  },
  {
   "cell_type": "code",
   "execution_count": 14,
   "metadata": {
    "colab": {
     "base_uri": "https://localhost:8080/"
    },
    "executionInfo": {
     "elapsed": 7,
     "status": "ok",
     "timestamp": 1749642208798,
     "user": {
      "displayName": "고윤재",
      "userId": "17035697930409593893"
     },
     "user_tz": -540
    },
    "id": "KsxjKvnwzQcg",
    "outputId": "af0a1082-7733-456b-b6a0-1fa59b7fa565"
   },
   "outputs": [
    {
     "name": "stdout",
     "output_type": "stream",
     "text": [
      "[1, 1, 1]\n"
     ]
    }
   ],
   "source": [
    "A = DM([[2, -1, 0],\n",
    "        [-1, 2, -1],\n",
    "        [0, -1, 2]])\n",
    "b = DM([1, 0, 1])\n",
    "print(solve(A,b))"
   ]
  },
  {
   "cell_type": "code",
   "execution_count": 17,
   "metadata": {
    "colab": {
     "base_uri": "https://localhost:8080/"
    },
    "executionInfo": {
     "elapsed": 13,
     "status": "ok",
     "timestamp": 1749642356869,
     "user": {
      "displayName": "고윤재",
      "userId": "17035697930409593893"
     },
     "user_tz": -540
    },
    "id": "IulMP0kAUORu",
    "outputId": "4baf6d16-5a56-42db-cf87-efbdea41ffb3"
   },
   "outputs": [
    {
     "name": "stdout",
     "output_type": "stream",
     "text": [
      "x = [1, 1, 1]\n"
     ]
    }
   ],
   "source": [
    "# 심볼릭 정의\n",
    "A = MX.sym('A',3,3)\n",
    "b = MX.sym('b',3)\n",
    "\n",
    "# 변수 정의\n",
    "Af = DM([[2, -1, 0],\n",
    "         [-1, 2, -1],\n",
    "         [0, -1, 2]])\n",
    "bf = DM([1, 0, 1])\n",
    "\n",
    "f = Function('f', [A, b], [solve(A, b)])\n",
    "\n",
    "xf = f(Af, bf)\n",
    "print(\"x =\", f(Af, bf))"
   ]
  },
  {
   "cell_type": "markdown",
   "metadata": {
    "id": "2PTqGdtAYJgY"
   },
   "source": [
    "$$\n",
    "J = \\frac{\\partial (A x)}{\\partial x} \\in \\mathbb{R}^{3 \\times 2}\n",
    "$$"
   ]
  },
  {
   "cell_type": "code",
   "execution_count": null,
   "metadata": {
    "colab": {
     "base_uri": "https://localhost:8080/"
    },
    "executionInfo": {
     "elapsed": 14,
     "status": "ok",
     "timestamp": 1749450501886,
     "user": {
      "displayName": "고윤재",
      "userId": "17035697930409593893"
     },
     "user_tz": -540
    },
    "id": "S9_ZvV7VVFnR",
    "outputId": "52501d56-599f-4f91-baea-c773025e42a7"
   },
   "outputs": [
    {
     "name": "stdout",
     "output_type": "stream",
     "text": [
      "[((A_0*x_0)+(A_3*x_1)), ((A_1*x_0)+(A_4*x_1)), ((A_2*x_0)+(A_5*x_1))]\n",
      "\n",
      "[[A_0, A_3], \n",
      " [A_1, A_4], \n",
      " [A_2, A_5]]\n"
     ]
    }
   ],
   "source": [
    "A = SX.sym('A',3,2)\n",
    "x = SX.sym('x',2)\n",
    "\n",
    "print(A@x)\n",
    "print(jacobian(A@x,x))"
   ]
  },
  {
   "cell_type": "markdown",
   "metadata": {
    "id": "roTPOKHb0Zv-"
   },
   "source": [
    "$$\n",
    "f(x) = x^\\top x = \\sum_{i=1}^n x_i^2\n",
    "$$\n",
    "$$\n",
    "\\nabla f(x) = \\frac{\\partial f}{\\partial x} \\in \\mathbb{R}^{n \\times 1}\n",
    "$$\n",
    "$$\n",
    "\\nabla^2 f(x) = \\frac{\\partial^2 f}{\\partial x^2} = H \\in \\mathbb{R}^{n \\times n}\n",
    "$$"
   ]
  },
  {
   "cell_type": "code",
   "execution_count": 18,
   "metadata": {
    "colab": {
     "base_uri": "https://localhost:8080/"
    },
    "executionInfo": {
     "elapsed": 51,
     "status": "ok",
     "timestamp": 1749642433137,
     "user": {
      "displayName": "고윤재",
      "userId": "17035697930409593893"
     },
     "user_tz": -540
    },
    "id": "P29SkrfkVFpd",
    "outputId": "863eaa89-f521-4d92-c7d1-d1481bb0aa87"
   },
   "outputs": [
    {
     "name": "stdout",
     "output_type": "stream",
     "text": [
      "g: [(x_0+x_0), (x_1+x_1), (x_2+x_2), (x_3+x_3), (x_4+x_4)]\n",
      "H: @1=2, \n",
      "[[@1, 00, 00, 00, 00], \n",
      " [00, @1, 00, 00, 00], \n",
      " [00, 00, @1, 00, 00], \n",
      " [00, 00, 00, @1, 00], \n",
      " [00, 00, 00, 00, @1]]\n"
     ]
    }
   ],
   "source": [
    "[H,g] = hessian(dot(x,x),x)\n",
    "print('g:', g)\n",
    "print('H:', H)"
   ]
  },
  {
   "cell_type": "markdown",
   "metadata": {
    "id": "2FeAay0R1QM1"
   },
   "source": [
    "Forward-mode automatic differentiation\n",
    "\n",
    "$$\n",
    "A =\n",
    "\\begin{bmatrix}\n",
    "1 & 3 \\\\\n",
    "4 & 7 \\\\\n",
    "2 & 8\n",
    "\\end{bmatrix}\n",
    ",\\quad\n",
    "x =\n",
    "\\begin{bmatrix}\n",
    "x_1 \\\\\n",
    "x_2\n",
    "\\end{bmatrix}\n",
    ",\\quad\n",
    "v =\n",
    "\\begin{bmatrix}\n",
    "v_1 \\\\\n",
    "v_2\n",
    "\\end{bmatrix}\n",
    "$$\n",
    "\n",
    "$$\n",
    "f(x) = A x =\n",
    "\\begin{bmatrix}\n",
    "1x_1 + 3x_2 \\\\\n",
    "4x_1 + 7x_2 \\\\\n",
    "2x_1 + 8x_2\n",
    "\\end{bmatrix}\n",
    "$$\n",
    "\n",
    "$$\n",
    "\\frac{\\partial f}{\\partial x} =\n",
    "\\frac{d}{dx}(Ax) = A =\n",
    "\\begin{bmatrix}\n",
    "1 & 3 \\\\\n",
    "4 & 7 \\\\\n",
    "2 & 8\n",
    "\\end{bmatrix}\n",
    "$$\n",
    "\n",
    "$$\n",
    "\\texttt{jtimes}(f, x, v) = \\frac{\\partial f}{\\partial x} \\cdot v = A v =\n",
    "\\begin{bmatrix}\n",
    "1v_1 + 3v_2 \\\\\n",
    "4v_1 + 7v_2 \\\\\n",
    "2v_1 + 8v_2\n",
    "\\end{bmatrix}\n",
    "$$"
   ]
  },
  {
   "cell_type": "code",
   "execution_count": 20,
   "metadata": {
    "colab": {
     "base_uri": "https://localhost:8080/"
    },
    "executionInfo": {
     "elapsed": 12,
     "status": "ok",
     "timestamp": 1749642773929,
     "user": {
      "displayName": "고윤재",
      "userId": "17035697930409593893"
     },
     "user_tz": -540
    },
    "id": "QtdJmhjmVFtS",
    "outputId": "d9d0212d-8acd-4546-8341-f760c533a55f"
   },
   "outputs": [
    {
     "name": "stdout",
     "output_type": "stream",
     "text": [
      "[(v_0+(3*v_1)), ((4*v_0)+(7*v_1)), ((2*v_0)+(8*v_1))]\n"
     ]
    }
   ],
   "source": [
    "x = SX.sym('x',2)\n",
    "v = SX.sym('v',2)\n",
    "\n",
    "A = DM([[1,3],[4,7],[2,8]])\n",
    "\n",
    "f = mtimes(A,x) # @\n",
    "print(jtimes(f,x,v))"
   ]
  },
  {
   "cell_type": "markdown",
   "metadata": {
    "id": "HJhj5mSj15nP"
   },
   "source": [
    "$$\n",
    "V(r) = \\frac{4}{3} \\pi r^3\n",
    "\\quad \\Rightarrow \\quad\n",
    "\\frac{dV}{dr} = 4\\pi r^2\n",
    "$$"
   ]
  },
  {
   "cell_type": "code",
   "execution_count": 29,
   "metadata": {
    "colab": {
     "base_uri": "https://localhost:8080/"
    },
    "executionInfo": {
     "elapsed": 14,
     "status": "ok",
     "timestamp": 1749643037889,
     "user": {
      "displayName": "고윤재",
      "userId": "17035697930409593893"
     },
     "user_tz": -540
    },
    "id": "XOg5zzHiVFvT",
    "outputId": "dd290332-07b0-456d-9a72-f3134d7d0d88"
   },
   "outputs": [
    {
     "name": "stdout",
     "output_type": "stream",
     "text": [
      "volume_derivative:(i0)->(o0) SXFunction\n"
     ]
    }
   ],
   "source": [
    "r = SX.sym('r')\n",
    "V = 4/3*pi*r**3\n",
    "A = jacobian(V,r)\n",
    "f = Function('volume_derivative', [r], [A])\n",
    "print(f)"
   ]
  },
  {
   "cell_type": "code",
   "execution_count": 30,
   "metadata": {
    "colab": {
     "base_uri": "https://localhost:8080/"
    },
    "executionInfo": {
     "elapsed": 9,
     "status": "ok",
     "timestamp": 1749643041099,
     "user": {
      "displayName": "고윤재",
      "userId": "17035697930409593893"
     },
     "user_tz": -540
    },
    "id": "Iyg636ekTY-U",
    "outputId": "662834ad-02e1-463a-b081-22e137024e2b"
   },
   "outputs": [
    {
     "name": "stdout",
     "output_type": "stream",
     "text": [
      "12.5664\n",
      "28.2743\n",
      "50.2655\n"
     ]
    }
   ],
   "source": [
    "print(f(1))\n",
    "print(f(1.5))\n",
    "print(f(2))"
   ]
  },
  {
   "cell_type": "markdown",
   "metadata": {},
   "source": [
    "# LP example\n",
    "casadi에는 LP전용 솔버가 없으므로, QP를 사용"
   ]
  },
  {
   "cell_type": "code",
   "execution_count": null,
   "metadata": {},
   "outputs": [
    {
     "name": "stdout",
     "output_type": "stream",
     "text": [
      "\n",
      "qpOASES -- An Implementation of the Online Active Set Strategy.\n",
      "Copyright (C) 2007-2015 by Hans Joachim Ferreau, Andreas Potschka,\n",
      "Christian Kirches et al. All rights reserved.\n",
      "\n",
      "qpOASES is distributed under the terms of the \n",
      "GNU Lesser General Public License 2.1 in the hope that it will be \n",
      "useful, but WITHOUT ANY WARRANTY; without even the implied warranty \n",
      "of MERCHANTABILITY or FITNESS FOR A PARTICULAR PURPOSE. \n",
      "See the GNU Lesser General Public License for more details.\n",
      "\n"
     ]
    }
   ],
   "source": [
    "x = SX.sym('x', 2)\n",
    "\n",
    "c = DM([-7000, -6000])\n",
    "A = DM([[4000, 3000], [60, 80]])\n",
    "b = DM([100000, 2000])\n",
    "\n",
    "lb = [0, 0]\n",
    "ub = [inf, inf]\n",
    "\n",
    "e = mtimes(A, x) - b\n",
    "f1 = mtimes(c.T, x)\n",
    "\n",
    "prob_struct = dict(x=x, f=f1, g=e)\n",
    "solver = qpsol('solver', 'qpoases', prob_struct)"
   ]
  },
  {
   "cell_type": "code",
   "execution_count": null,
   "metadata": {},
   "outputs": [
    {
     "name": "stdout",
     "output_type": "stream",
     "text": [
      "\n",
      "qpOASES -- An Implementation of the Online Active Set Strategy.\n",
      "Copyright (C) 2007-2015 by Hans Joachim Ferreau, Andreas Potschka,\n",
      "Christian Kirches et al. All rights reserved.\n",
      "\n",
      "qpOASES is distributed under the terms of the \n",
      "GNU Lesser General Public License 2.1 in the hope that it will be \n",
      "useful, but WITHOUT ANY WARRANTY; without even the implied warranty \n",
      "of MERCHANTABILITY or FITNESS FOR A PARTICULAR PURPOSE. \n",
      "See the GNU Lesser General Public License for more details.\n",
      "\n",
      "\n",
      "\n",
      "####################   qpOASES  --  QP NO.   1   #####################\n",
      "\n",
      "    Iter   |    StepLength    |       Info       |   nFX   |   nAC    \n",
      " ----------+------------------+------------------+---------+--------- \n",
      "       0   |   1.326355e-04   |   REM BND    0   |     1   |     0   \n",
      "       1   |   1.016979e-15   |   ADD CON    0   |     1   |     1   \n",
      "       2   |   2.719987e-04   |   REM BND    1   |     0   |     1   \n",
      "       3   |   5.844708e-14   |   ADD BND    0   |     1   |     1   \n",
      "       4   |   6.402828e-04   |   ADD CON    1   |     0   |     2   \n",
      "       5   |   1.000000e+00   |    LP SOLVED     |     0   |     2   \n",
      "       5*  |   1.000000e+00   |    LP SOLVED     |     0   |     2   \n"
     ]
    }
   ],
   "source": [
    "sol = solver(x0=[1,1], lbg=[-inf,-inf], ubg=[0,0], lbx=lb, ubx=ub)"
   ]
  },
  {
   "cell_type": "code",
   "execution_count": null,
   "metadata": {},
   "outputs": [
    {
     "name": "stdout",
     "output_type": "stream",
     "text": [
      "[14.2857, 14.2857]\n",
      "-185714.28571386784\n"
     ]
    }
   ],
   "source": [
    "print(sol['x'])\n",
    "print(float(sol['f']))"
   ]
  },
  {
   "cell_type": "markdown",
   "metadata": {},
   "source": [
    "# QP example"
   ]
  },
  {
   "cell_type": "code",
   "execution_count": null,
   "metadata": {},
   "outputs": [
    {
     "name": "stdout",
     "output_type": "stream",
     "text": [
      "\n",
      "qpOASES -- An Implementation of the Online Active Set Strategy.\n",
      "Copyright (C) 2007-2015 by Hans Joachim Ferreau, Andreas Potschka,\n",
      "Christian Kirches et al. All rights reserved.\n",
      "\n",
      "qpOASES is distributed under the terms of the \n",
      "GNU Lesser General Public License 2.1 in the hope that it will be \n",
      "useful, but WITHOUT ANY WARRANTY; without even the implied warranty \n",
      "of MERCHANTABILITY or FITNESS FOR A PARTICULAR PURPOSE. \n",
      "See the GNU Lesser General Public License for more details.\n",
      "\n",
      "\n",
      "qpOASES -- An Implementation of the Online Active Set Strategy.\n",
      "Copyright (C) 2007-2015 by Hans Joachim Ferreau, Andreas Potschka,\n",
      "Christian Kirches et al. All rights reserved.\n",
      "\n",
      "qpOASES is distributed under the terms of the \n",
      "GNU Lesser General Public License 2.1 in the hope that it will be \n",
      "useful, but WITHOUT ANY WARRANTY; without even the implied warranty \n",
      "of MERCHANTABILITY or FITNESS FOR A PARTICULAR PURPOSE. \n",
      "See the GNU Lesser General Public License for more details.\n",
      "\n",
      "\n",
      "\n",
      "####################   qpOASES  --  QP NO.   1   #####################\n",
      "\n",
      "    Iter   |    StepLength    |       Info       |   nFX   |   nAC    \n",
      " ----------+------------------+------------------+---------+--------- \n",
      "       0   |   1.326355e-04   |   REM BND    0   |     1   |     0   \n",
      "       1   |   3.400794e-05   |   REM BND    1   |     0   |     0   \n",
      "       2   |   1.475727e-04   |   ADD CON    0   |     0   |     1   \n",
      "       3   |   1.000000e+00   |    QP SOLVED     |     0   |     1   \n"
     ]
    }
   ],
   "source": [
    "Q = DM ([[100, 0], [0, 200]])\n",
    "\n",
    "Qx = mtimes(Q, x)\n",
    "f1 = mtimes(c.T, x) + mtimes(x.T, Qx)\n",
    "\n",
    "prob_struct = dict(x=x, f=f1, g=e)\n",
    "solver = qpsol('solver', 'qpoases', prob_struct)\n",
    "sol = solver(x0=[1,1], lbg=[-inf,-inf], ubg=[0,0], lbx=lb, ubx=ub)"
   ]
  },
  {
   "cell_type": "code",
   "execution_count": null,
   "metadata": {},
   "outputs": [
    {
     "name": "stdout",
     "output_type": "stream",
     "text": [
      "[18.4146, 8.78049]\n",
      "-132256.0975609756\n"
     ]
    }
   ],
   "source": [
    "print(sol['x'])\n",
    "print(float(sol['f']))"
   ]
  },
  {
   "cell_type": "markdown",
   "metadata": {},
   "source": [
    "# NLP example"
   ]
  },
  {
   "cell_type": "code",
   "execution_count": null,
   "metadata": {},
   "outputs": [],
   "source": [
    "x = SX.sym('x')\n",
    "y = SX.sym('y')\n",
    "\n",
    "f = x**2 + 100*(y - (1-x)**2)**2\n",
    "\n",
    "P = dict(x=vertcat(x,y), f=f)\n",
    "F = nlpsol('F', 'ipopt', P)"
   ]
  },
  {
   "cell_type": "code",
   "execution_count": null,
   "metadata": {},
   "outputs": [
    {
     "name": "stdout",
     "output_type": "stream",
     "text": [
      "\n",
      "******************************************************************************\n",
      "This program contains Ipopt, a library for large-scale nonlinear optimization.\n",
      " Ipopt is released as open source code under the Eclipse Public License (EPL).\n",
      "         For more information visit https://github.com/coin-or/Ipopt\n",
      "******************************************************************************\n",
      "\n",
      "This is Ipopt version 3.14.11, running with linear solver MUMPS 5.4.1.\n",
      "\n",
      "Number of nonzeros in equality constraint Jacobian...:        0\n",
      "Number of nonzeros in inequality constraint Jacobian.:        0\n",
      "Number of nonzeros in Lagrangian Hessian.............:        3\n",
      "\n",
      "Total number of variables............................:        2\n",
      "                     variables with only lower bounds:        0\n",
      "                variables with lower and upper bounds:        0\n",
      "                     variables with only upper bounds:        0\n",
      "Total number of equality constraints.................:        0\n",
      "Total number of inequality constraints...............:        0\n",
      "        inequality constraints with only lower bounds:        0\n",
      "   inequality constraints with lower and upper bounds:        0\n",
      "        inequality constraints with only upper bounds:        0\n",
      "\n",
      "iter    objective    inf_pr   inf_du lg(mu)  ||d||  lg(rg) alpha_du alpha_pr  ls\n",
      "   0  6.2500000e+01 0.00e+00 1.00e+02  -1.0 0.00e+00    -  0.00e+00 0.00e+00   0\n",
      "   1  7.4172391e+00 0.00e+00 9.18e-01  -1.0 2.20e-01   2.0 1.00e+00 1.00e+00f  1\n",
      "   2  7.3973976e+00 0.00e+00 3.44e-01  -1.7 1.03e-02   1.5 1.00e+00 1.00e+00f  1\n",
      "   3  7.3506173e+00 0.00e+00 3.25e-01  -1.7 2.96e-02   1.0 1.00e+00 1.00e+00f  1\n",
      "   4  7.2093693e+00 0.00e+00 2.99e-01  -1.7 8.90e-02   0.6 1.00e+00 1.00e+00f  1\n",
      "   5  6.7812835e+00 0.00e+00 1.03e+00  -1.7 2.69e-01   0.1 1.00e+00 1.00e+00f  1\n",
      "   6  5.9289624e+00 0.00e+00 6.11e+00  -1.7 1.04e+01    -  1.00e+00 6.25e-02f  5\n",
      "   7  5.0675764e+00 0.00e+00 8.25e+00  -1.7 7.10e-01    -  1.00e+00 1.00e+00f  1\n",
      "   8  4.0182931e+00 0.00e+00 2.64e+00  -1.7 2.45e-01    -  1.00e+00 1.00e+00f  1\n",
      "   9  3.4715637e+00 0.00e+00 4.45e+00  -1.7 7.92e-01    -  1.00e+00 5.00e-01f  2\n",
      "iter    objective    inf_pr   inf_du lg(mu)  ||d||  lg(rg) alpha_du alpha_pr  ls\n",
      "  10  2.7280507e+00 0.00e+00 2.17e+00  -1.7 2.01e-01    -  1.00e+00 1.00e+00f  1\n",
      "  11  2.3811352e+00 0.00e+00 3.25e+00  -1.7 3.15e-01    -  1.00e+00 1.00e+00f  1\n",
      "  12  1.6317913e+00 0.00e+00 7.65e-01  -1.7 8.82e-02    -  1.00e+00 1.00e+00f  1\n",
      "  13  1.4892731e+00 0.00e+00 2.97e+00  -1.7 4.99e-01    -  1.00e+00 5.00e-01f  2\n",
      "  14  9.1177572e-01 0.00e+00 4.07e-01  -1.7 7.21e-02    -  1.00e+00 1.00e+00f  1\n",
      "  15  8.4588869e-01 0.00e+00 2.57e+00  -1.7 4.68e-01    -  1.00e+00 5.00e-01f  2\n",
      "  16  4.3915456e-01 0.00e+00 1.96e-01  -1.7 8.97e-02    -  1.00e+00 1.00e+00f  1\n",
      "  17  3.8321830e-01 0.00e+00 1.84e+00  -2.5 3.97e-01    -  1.00e+00 5.00e-01f  2\n",
      "  18  1.7128571e-01 0.00e+00 1.14e-01  -2.5 9.50e-02    -  1.00e+00 1.00e+00f  1\n",
      "  19  1.1642529e-01 0.00e+00 1.18e+00  -2.5 3.24e-01    -  1.00e+00 5.00e-01f  2\n",
      "iter    objective    inf_pr   inf_du lg(mu)  ||d||  lg(rg) alpha_du alpha_pr  ls\n",
      "  20  4.9728669e-02 0.00e+00 1.36e-01  -2.5 9.98e-02    -  1.00e+00 1.00e+00f  1\n",
      "  21  4.2745485e-02 0.00e+00 1.52e+00  -2.5 2.17e-01    -  1.00e+00 1.00e+00f  1\n",
      "  22  4.3590342e-03 0.00e+00 1.37e-02  -2.5 5.09e-02    -  1.00e+00 1.00e+00f  1\n",
      "  23  1.5086649e-03 0.00e+00 3.44e-01  -3.8 1.16e-01    -  1.00e+00 1.00e+00f  1\n",
      "  24  2.7157356e-06 0.00e+00 3.33e-04  -3.8 8.11e-03    -  1.00e+00 1.00e+00f  1\n",
      "  25  7.3596764e-10 0.00e+00 2.43e-04  -5.7 3.29e-03    -  1.00e+00 1.00e+00f  1\n",
      "  26  6.5517109e-19 0.00e+00 1.63e-10  -5.7 5.70e-06    -  1.00e+00 1.00e+00f  1\n",
      "\n",
      "Number of Iterations....: 26\n",
      "\n",
      "                                   (scaled)                 (unscaled)\n",
      "Objective...............:   1.4722945872573680e-19    6.5517109132952879e-19\n",
      "Dual infeasibility......:   1.6314020210905528e-10    7.2597389938529606e-10\n",
      "Constraint violation....:   0.0000000000000000e+00    0.0000000000000000e+00\n",
      "Variable bound violation:   0.0000000000000000e+00    0.0000000000000000e+00\n",
      "Complementarity.........:   0.0000000000000000e+00    0.0000000000000000e+00\n",
      "Overall NLP error.......:   1.6314020210905528e-10    7.2597389938529606e-10\n",
      "\n",
      "\n",
      "Number of objective function evaluations             = 60\n",
      "Number of objective gradient evaluations             = 27\n",
      "Number of equality constraint evaluations            = 0\n",
      "Number of inequality constraint evaluations          = 0\n",
      "Number of equality constraint Jacobian evaluations   = 0\n",
      "Number of inequality constraint Jacobian evaluations = 0\n",
      "Number of Lagrangian Hessian evaluations             = 26\n",
      "Total seconds in IPOPT                               = 0.020\n",
      "\n",
      "EXIT: Optimal Solution Found.\n",
      "           F  :   t_proc      (avg)   t_wall      (avg)    n_eval\n",
      "       nlp_f  | 180.00us (  3.00us) 137.22us (  2.29us)        60\n",
      "  nlp_grad_f  |  67.00us (  2.39us)  56.99us (  2.04us)        28\n",
      "  nlp_hess_l  |  58.00us (  2.23us)  50.36us (  1.94us)        26\n",
      "       total  |  22.50ms ( 22.50ms)  22.09ms ( 22.09ms)         1\n"
     ]
    }
   ],
   "source": [
    "r = F(x0=[2.5, 3.0])"
   ]
  },
  {
   "cell_type": "code",
   "execution_count": null,
   "metadata": {},
   "outputs": [
    {
     "name": "stdout",
     "output_type": "stream",
     "text": [
      "[8.09119e-10, 1]\n",
      "6.55171e-19\n"
     ]
    }
   ],
   "source": [
    "print(r['x'])\n",
    "print(r['f'])"
   ]
  },
  {
   "cell_type": "code",
   "execution_count": null,
   "metadata": {},
   "outputs": [
    {
     "name": "stdout",
     "output_type": "stream",
     "text": [
      "This is Ipopt version 3.14.11, running with linear solver MUMPS 5.4.1.\n",
      "\n",
      "Number of nonzeros in equality constraint Jacobian...:        3\n",
      "Number of nonzeros in inequality constraint Jacobian.:        0\n",
      "Number of nonzeros in Lagrangian Hessian.............:        2\n",
      "\n",
      "Total number of variables............................:        3\n",
      "                     variables with only lower bounds:        0\n",
      "                variables with lower and upper bounds:        0\n",
      "                     variables with only upper bounds:        0\n",
      "Total number of equality constraints.................:        1\n",
      "Total number of inequality constraints...............:        0\n",
      "        inequality constraints with only lower bounds:        0\n",
      "   inequality constraints with lower and upper bounds:        0\n",
      "        inequality constraints with only upper bounds:        0\n",
      "\n",
      "iter    objective    inf_pr   inf_du lg(mu)  ||d||  lg(rg) alpha_du alpha_pr  ls\n",
      "   0  6.2500000e+01 7.50e+00 9.69e+01  -1.0 0.00e+00    -  0.00e+00 0.00e+00   0\n",
      "   1  4.2268114e+00 1.97e-01 2.74e+00  -1.0 6.03e+00    -  1.00e+00 1.00e+00f  1\n",
      "   2  0.0000000e+00 4.23e+00 0.00e+00  -1.0 8.26e+00    -  1.00e+00 1.00e+00f  1\n",
      "   3  0.0000000e+00 0.00e+00 0.00e+00  -1.0 4.23e+00    -  1.00e+00 1.00e+00h  1\n",
      "\n",
      "Number of Iterations....: 3\n",
      "\n",
      "                                   (scaled)                 (unscaled)\n",
      "Objective...............:   0.0000000000000000e+00    0.0000000000000000e+00\n",
      "Dual infeasibility......:   0.0000000000000000e+00    0.0000000000000000e+00\n",
      "Constraint violation....:   0.0000000000000000e+00    0.0000000000000000e+00\n",
      "Variable bound violation:   0.0000000000000000e+00    0.0000000000000000e+00\n",
      "Complementarity.........:   0.0000000000000000e+00    0.0000000000000000e+00\n",
      "Overall NLP error.......:   0.0000000000000000e+00    0.0000000000000000e+00\n",
      "\n",
      "\n",
      "Number of objective function evaluations             = 4\n",
      "Number of objective gradient evaluations             = 4\n",
      "Number of equality constraint evaluations            = 4\n",
      "Number of inequality constraint evaluations          = 0\n",
      "Number of equality constraint Jacobian evaluations   = 4\n",
      "Number of inequality constraint Jacobian evaluations = 0\n",
      "Number of Lagrangian Hessian evaluations             = 3\n",
      "Total seconds in IPOPT                               = 0.003\n",
      "\n",
      "EXIT: Optimal Solution Found.\n",
      "           F  :   t_proc      (avg)   t_wall      (avg)    n_eval\n",
      "       nlp_f  |   7.00us (  1.75us)   5.13us (  1.28us)         4\n",
      "       nlp_g  |  21.00us (  5.25us)  16.39us (  4.10us)         4\n",
      "  nlp_grad_f  |  17.00us (  3.40us)  12.83us (  2.57us)         5\n",
      "  nlp_hess_l  |   6.00us (  2.00us)   4.85us (  1.62us)         3\n",
      "   nlp_jac_g  |   7.00us (  1.40us)   6.70us (  1.34us)         5\n",
      "       total  |   3.46ms (  3.46ms)   3.44ms (  3.44ms)         1\n"
     ]
    }
   ],
   "source": [
    "x = SX.sym('x')\n",
    "y = SX.sym('y')\n",
    "z = SX.sym('z')\n",
    "\n",
    "f = x**2+100*z**2\n",
    "g = z+(1-x**2-y)\n",
    "P = dict(f=f, g=g, x=vertcat(x,y,z))\n",
    "F = nlpsol('F', 'ipopt', P)\n",
    "r = F(x0=[2.5, 3.0, 0.75], ubg=0, lbg=0)"
   ]
  },
  {
   "cell_type": "code",
   "execution_count": null,
   "metadata": {},
   "outputs": [
    {
     "name": "stdout",
     "output_type": "stream",
     "text": [
      "[0, 1, 0]\n",
      "0\n"
     ]
    }
   ],
   "source": [
    "print(r['x'])\n",
    "print(r['f'])"
   ]
  },
  {
   "cell_type": "markdown",
   "metadata": {},
   "source": [
    "# NLP 2"
   ]
  },
  {
   "cell_type": "code",
   "execution_count": null,
   "metadata": {},
   "outputs": [
    {
     "name": "stdout",
     "output_type": "stream",
     "text": [
      "This is Ipopt version 3.14.11, running with linear solver MUMPS 5.4.1.\n",
      "\n",
      "Number of nonzeros in equality constraint Jacobian...:        0\n",
      "Number of nonzeros in inequality constraint Jacobian.:        2\n",
      "Number of nonzeros in Lagrangian Hessian.............:        3\n",
      "\n",
      "Total number of variables............................:        2\n",
      "                     variables with only lower bounds:        0\n",
      "                variables with lower and upper bounds:        0\n",
      "                     variables with only upper bounds:        0\n",
      "Total number of equality constraints.................:        0\n",
      "Total number of inequality constraints...............:        1\n",
      "        inequality constraints with only lower bounds:        0\n",
      "   inequality constraints with lower and upper bounds:        1\n",
      "        inequality constraints with only upper bounds:        0\n",
      "\n",
      "iter    objective    inf_pr   inf_du lg(mu)  ||d||  lg(rg) alpha_du alpha_pr  ls\n",
      "   0  1.2996628e+00 0.00e+00 5.33e-01  -1.0 0.00e+00    -  0.00e+00 0.00e+00   0\n",
      "   1  1.2954776e+00 0.00e+00 5.12e-01  -1.0 5.12e-03   2.0 1.00e+00 1.00e+00f  1\n",
      "   2  1.2818486e+00 0.00e+00 5.57e-01  -1.7 1.67e-02   1.5 1.00e+00 1.00e+00f  1\n",
      "   3  1.2325074e+00 0.00e+00 6.29e-01  -1.7 5.72e-02   1.0 1.00e+00 1.00e+00f  1\n",
      "   4  9.7658820e-01 0.00e+00 8.01e-01  -1.7 2.53e-01   0.6 1.00e+00 1.00e+00f  1\n",
      "   5  4.3974752e-01 0.00e+00 3.29e-01  -1.7 7.79e-01   0.1 1.00e+00 1.00e+00f  1\n",
      "   6  2.3922283e-01 2.38e-01 1.59e-01  -1.7 1.86e+00    -  4.86e-01 6.59e-01h  1\n",
      "   7  3.7485893e-01 0.00e+00 4.55e-02  -1.7 6.18e-01    -  1.00e+00 1.00e+00h  1\n",
      "   8  2.9915610e-01 0.00e+00 1.05e-02  -2.5 4.23e-01    -  9.03e-01 1.00e+00h  1\n",
      "   9  2.7573318e-01 0.00e+00 9.34e-04  -2.5 1.58e-01    -  1.00e+00 1.00e+00h  1\n",
      "iter    objective    inf_pr   inf_du lg(mu)  ||d||  lg(rg) alpha_du alpha_pr  ls\n",
      "  10  2.6922502e-01 0.00e+00 7.70e-05  -3.8 4.62e-02    -  1.00e+00 1.00e+00h  1\n",
      "  11  2.6870686e-01 0.00e+00 4.63e-07  -5.7 3.80e-03    -  1.00e+00 1.00e+00h  1\n",
      "  12  2.6870284e-01 0.00e+00 2.85e-11  -8.6 2.95e-05    -  1.00e+00 1.00e+00h  1\n",
      "\n",
      "Number of Iterations....: 12\n",
      "\n",
      "                                   (scaled)                 (unscaled)\n",
      "Objective...............:   2.6870283507159753e-01    2.6870283507159753e-01\n",
      "Dual infeasibility......:   2.8492930237433711e-11    2.8492930237433711e-11\n",
      "Constraint violation....:   0.0000000000000000e+00    0.0000000000000000e+00\n",
      "Variable bound violation:   0.0000000000000000e+00    0.0000000000000000e+00\n",
      "Complementarity.........:   2.6621343401546882e-09    2.6621343401546882e-09\n",
      "Overall NLP error.......:   2.6621343401546882e-09    2.6621343401546882e-09\n",
      "\n",
      "\n",
      "Number of objective function evaluations             = 13\n",
      "Number of objective gradient evaluations             = 13\n",
      "Number of equality constraint evaluations            = 0\n",
      "Number of inequality constraint evaluations          = 13\n",
      "Number of equality constraint Jacobian evaluations   = 0\n",
      "Number of inequality constraint Jacobian evaluations = 13\n",
      "Number of Lagrangian Hessian evaluations             = 12\n",
      "Total seconds in IPOPT                               = 0.008\n",
      "\n",
      "EXIT: Optimal Solution Found.\n",
      "           F  :   t_proc      (avg)   t_wall      (avg)    n_eval\n",
      "       nlp_f  |  33.00us (  2.54us)  31.50us (  2.42us)        13\n",
      "       nlp_g  |  57.00us (  4.38us)  42.93us (  3.30us)        13\n",
      "  nlp_grad_f  |  91.00us (  6.50us)  87.91us (  6.28us)        14\n",
      "  nlp_hess_l  |  35.00us (  2.92us)  33.13us (  2.76us)        12\n",
      "   nlp_jac_g  |  21.00us (  1.50us)  21.99us (  1.57us)        14\n",
      "       total  |   9.09ms (  9.09ms)   9.08ms (  9.08ms)         1\n"
     ]
    }
   ],
   "source": [
    "x = SX.sym('x')\n",
    "y = SX.sym('y')\n",
    "f = -exp(-(x**2+y**2))+0.3*sin(x**3/10+y**2)+1.2\n",
    "g = (x + 2)**2 - 0.5 * y**3\n",
    "\n",
    "P=dict(f=f, x=vertcat(x,y), g=g)\n",
    "F=nlpsol('F', 'ipopt', P)\n",
    "r=F(x0=[-1,-1], lbg=1, ubg=3)"
   ]
  },
  {
   "cell_type": "code",
   "execution_count": null,
   "metadata": {},
   "outputs": [
    {
     "name": "stdout",
     "output_type": "stream",
     "text": [
      "[-0.267949, -5.08104e-18]\n",
      "0.268703\n"
     ]
    }
   ],
   "source": [
    "print(r['x'])\n",
    "print(r['f'])"
   ]
  }
 ],
 "metadata": {
  "colab": {
   "authorship_tag": "ABX9TyOa4WWg7E85dIEvHSxHUsIC",
   "provenance": []
  },
  "kernelspec": {
   "display_name": "mpc",
   "language": "python",
   "name": "python3"
  },
  "language_info": {
   "codemirror_mode": {
    "name": "ipython",
    "version": 3
   },
   "file_extension": ".py",
   "mimetype": "text/x-python",
   "name": "python",
   "nbconvert_exporter": "python",
   "pygments_lexer": "ipython3",
   "version": "3.12.7"
  }
 },
 "nbformat": 4,
 "nbformat_minor": 0
}
